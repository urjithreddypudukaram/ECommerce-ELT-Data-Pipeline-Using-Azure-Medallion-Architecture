{
 "cells": [
  {
   "cell_type": "code",
   "execution_count": 0,
   "metadata": {
    "application/vnd.databricks.v1+cell": {
     "cellMetadata": {
      "byteLimit": 2048000,
      "rowLimit": 10000
     },
     "inputWidgets": {},
     "nuid": "8364a2a2-1cf4-49b6-b760-a2c01b542cff",
     "showTitle": false,
     "tableResultSettingsMap": {},
     "title": ""
    }
   },
   "outputs": [],
   "source": [
    "from pyspark.sql import SparkSession\n",
    "from pyspark.sql.functions import *\n",
    "from pyspark.sql.types import *\n",
    "from pyspark.sql.types import IntegerType, DecimalType\n",
    "from pyspark.sql.functions import col, round, when, initcap"
   ]
  },
  {
   "cell_type": "code",
   "execution_count": 0,
   "metadata": {
    "application/vnd.databricks.v1+cell": {
     "cellMetadata": {
      "byteLimit": 2048000,
      "rowLimit": 10000
     },
     "inputWidgets": {},
     "nuid": "90259dcb-4afc-40b8-bc9c-66b6c0c0cd47",
     "showTitle": false,
     "tableResultSettingsMap": {},
     "title": ""
    }
   },
   "outputs": [],
   "source": [
    "spark = SparkSession.builder.appName(\"ECommerceDataPipeline\").getOrCreate()"
   ]
  },
  {
   "cell_type": "code",
   "execution_count": 0,
   "metadata": {
    "application/vnd.databricks.v1+cell": {
     "cellMetadata": {
      "byteLimit": 2048000,
      "rowLimit": 10000
     },
     "inputWidgets": {},
     "nuid": "53e572e1-be44-4c47-963c-beec2d09c40c",
     "showTitle": false,
     "tableResultSettingsMap": {},
     "title": ""
    }
   },
   "outputs": [],
   "source": [
    "service_credential = dbutils.secrets.get(scope=\"ecomm-kv-scope\",key=\"ecomm-secret\")\n",
    "\n",
    "spark.conf.set(\"fs.azure.account.auth.type.ecommadls.dfs.core.windows.net\", \"OAuth\")\n",
    "spark.conf.set(\"fs.azure.account.oauth.provider.type.ecommadls.dfs.core.windows.net\", \"org.apache.hadoop.fs.azurebfs.oauth2.ClientCredsTokenProvider\")\n",
    "spark.conf.set(\"fs.azure.account.oauth2.client.id.ecommadls.dfs.core.windows.net\", \"3b059ba0-2363-42d4-345890-37UC3dd866ea7\")\n",
    "spark.conf.set(\"fs.azure.account.oauth2.client.secret.ecommadls.dfs.core.windows.net\", service_credential)\n",
    "spark.conf.set(\"fs.azure.account.oauth2.client.endpoint.ecommadls.dfs.core.windows.net\", \"https://login.microsoftonline.com/2535435251-7BG9-4c72-905f-39bf434340a8a84/oauth2/token\")"
   ]
  },
  {
   "cell_type": "code",
   "execution_count": 0,
   "metadata": {
    "application/vnd.databricks.v1+cell": {
     "cellMetadata": {
      "byteLimit": 2048000,
      "rowLimit": 10000
     },
     "inputWidgets": {},
     "nuid": "2bfafc13-416c-49ff-8c8f-b170e3162cca",
     "showTitle": false,
     "tableResultSettingsMap": {},
     "title": ""
    }
   },
   "outputs": [],
   "source": [
    "root = \"abfss://zone-2@ecommadls.dfs.core.windows.net\"\n",
    "bronze_users = f\"{root}/bronze/users\"     # source (Delta)\n",
    "silver_users = f\"{root}/silver/users\"     # target (Delta)"
   ]
  },
  {
   "cell_type": "code",
   "execution_count": 0,
   "metadata": {
    "application/vnd.databricks.v1+cell": {
     "cellMetadata": {
      "byteLimit": 2048000,
      "rowLimit": 10000
     },
     "inputWidgets": {},
     "nuid": "a4f37657-9dbe-4c06-bd07-bde462e34177",
     "showTitle": false,
     "tableResultSettingsMap": {},
     "title": ""
    }
   },
   "outputs": [],
   "source": [
    "usersDF = spark.read.format(\"delta\").load(bronze_users)"
   ]
  },
  {
   "cell_type": "code",
   "execution_count": 0,
   "metadata": {
    "application/vnd.databricks.v1+cell": {
     "cellMetadata": {
      "byteLimit": 2048000,
      "rowLimit": 10000
     },
     "inputWidgets": {},
     "nuid": "47b08216-6c87-4d34-8083-052497a8921a",
     "showTitle": false,
     "tableResultSettingsMap": {},
     "title": ""
    }
   },
   "outputs": [],
   "source": [
    "# 1) Normalize country codes to uppercase\n",
    "usersDF = usersDF.withColumn(\"countrycode\", upper(col(\"countrycode\")))\n",
    "\n",
    "# 2) Language bucket using CASE WHEN\n",
    "usersDF = usersDF.withColumn(\n",
    "    \"language_full\",\n",
    "    expr(\n",
    "        \"CASE WHEN language = 'EN' THEN 'English' \"\n",
    "        \"WHEN language = 'FR' THEN 'French' \"\n",
    "        \"ELSE 'Other' END\"\n",
    "    )\n",
    ")\n",
    "\n",
    "# 3) Fix gender values\n",
    "usersDF = usersDF.withColumn(\n",
    "    \"gender\",\n",
    "    when(col(\"gender\").startswith(\"M\"), \"Male\")\n",
    "    .when(col(\"gender\").startswith(\"F\"), \"Female\")\n",
    "    .otherwise(\"Other\")\n",
    ")\n",
    "\n",
    "# 4) Clean civilitytitle -> civilitytitle_clean\n",
    "usersDF = usersDF.withColumn(\n",
    "    \"civilitytitle_clean\",\n",
    "    regexp_replace(col(\"civilitytitle\"), \"(Mme|Ms|Mrs)\", \"Ms\")\n",
    ")\n",
    "\n",
    "# 5) years_since_last_login from dayssincelastlogin\n",
    "usersDF = usersDF.withColumn(\"years_since_last_login\", col(\"dayssincelastlogin\") / 365)\n",
    "\n",
    "# 6) Account age in years + group\n",
    "usersDF = usersDF.withColumn(\"account_age_years\", round(col(\"seniority\") / 365, 2))\n",
    "usersDF = usersDF.withColumn(\n",
    "    \"account_age_group\",\n",
    "    when(col(\"account_age_years\") < 1, \"New\")\n",
    "    .when((col(\"account_age_years\") >= 1) & (col(\"account_age_years\") < 3), \"Intermediate\")\n",
    "    .otherwise(\"Experienced\")\n",
    ")\n",
    "\n",
    "# 7) Current year\n",
    "usersDF = usersDF.withColumn(\"current_year\", year(current_date()))\n",
    "\n",
    "# 8) User descriptor: gender_countrycode_civ_language\n",
    "usersDF = usersDF.withColumn(\n",
    "    \"user_descriptor\",\n",
    "    concat(\n",
    "        col(\"gender\"), lit(\"_\"),\n",
    "        col(\"countrycode\"), lit(\"_\"),\n",
    "        expr(\"substring(civilitytitle_clean, 1, 3)\"), lit(\"_\"),\n",
    "        col(\"language_full\")\n",
    "    )\n",
    ")\n",
    "\n",
    "# 9) Flag very long civility titles\n",
    "usersDF = usersDF.withColumn(\"flag_long_title\", length(col(\"civilitytitle\")) > 10)\n"
   ]
  },
  {
   "cell_type": "code",
   "execution_count": 0,
   "metadata": {
    "application/vnd.databricks.v1+cell": {
     "cellMetadata": {
      "byteLimit": 2048000,
      "rowLimit": 10000
     },
     "inputWidgets": {},
     "nuid": "00993f7a-a6b3-4c9e-a41a-8f31fa1cd4c0",
     "showTitle": false,
     "tableResultSettingsMap": {},
     "title": ""
    }
   },
   "outputs": [
    {
     "output_type": "stream",
     "name": "stdout",
     "output_type": "stream",
     "text": [
      "+--------------------+----+----------+--------+-----------------+---------------+-------------------+--------------+------------+----------------+--------------+--------------+------+----------------+-------------+---------+-------------+---------+-----------------+------------------+---------+-----------------+----------------+-----------+-------------+-------------------+----------------------+-----------------+-----------------+------------+-------------------+---------------+\n|      identifierHash|type|   country|language|socialNbFollowers|socialNbFollows|socialProductsLiked|productsListed|productsSold|productsPassRate|productsWished|productsBought|gender|civilityGenderId|civilityTitle|hasAnyApp|hasAndroidApp|hasIosApp|hasProfilePicture|daysSinceLastLogin|seniority|seniorityAsMonths|seniorityAsYears|countrycode|language_full|civilitytitle_clean|years_since_last_login|account_age_years|account_age_group|current_year|    user_descriptor|flag_long_title|\n+--------------------+----+----------+--------+-----------------+---------------+-------------------+--------------+------------+----------------+--------------+--------------+------+----------------+-------------+---------+-------------+---------+-----------------+------------------+---------+-----------------+----------------+-----------+-------------+-------------------+----------------------+-----------------+-----------------+------------+-------------------+---------------+\n|-7279641312655250028|user|Etats-Unis|      en|                3|              8|                  0|             0|           0|             0.0|             0|             0|Female|               2|          mrs|    False|        False|    False|             True|               709|     3205|           106.83|             8.9|         US|        Other|                mrs|    1.9424657534246574|             8.78|      Experienced|        2025|Female_US_mrs_Other|          false|\n|-1456013578740053406|user| Allemagne|      de|                3|              8|                  0|             0|           0|             0.0|             0|             0|Female|               2|          mrs|    False|        False|    False|             True|               709|     3205|           106.83|             8.9|         DE|        Other|                mrs|    1.9424657534246574|             8.78|      Experienced|        2025|Female_DE_mrs_Other|          false|\n| 9006282053848196165|user|     Suède|      en|                3|              8|                  0|             0|           0|             0.0|             0|             0|  Male|               1|           mr|     True|        False|     True|             True|               689|     3205|           106.83|             8.9|         SE|        Other|                 mr|    1.8876712328767122|             8.78|      Experienced|        2025|   Male_SE_mr_Other|          false|\n|-7154634866120535654|user|   Turquie|      en|                3|              8|                  0|             0|           0|             0.0|             0|             0|Female|               2|          mrs|    False|        False|    False|             True|               709|     3205|           106.83|             8.9|         TR|        Other|                mrs|    1.9424657534246574|             8.78|      Experienced|        2025|Female_TR_mrs_Other|          false|\n| 2858299215060733023|user|    France|      en|                3|              8|                  0|             0|           0|             0.0|             0|             0|  Male|               1|           mr|     True|        False|     True|             True|               709|     3205|           106.83|             8.9|         FR|        Other|                 mr|    1.9424657534246574|             8.78|      Experienced|        2025|   Male_FR_mr_Other|          false|\n+--------------------+----+----------+--------+-----------------+---------------+-------------------+--------------+------------+----------------+--------------+--------------+------+----------------+-------------+---------+-------------+---------+-----------------+------------------+---------+-----------------+----------------+-----------+-------------+-------------------+----------------------+-----------------+-----------------+------------+-------------------+---------------+\nonly showing top 5 rows\n"
     ]
    }
   ],
   "source": [
    "usersDF.show(5)"
   ]
  },
  {
   "cell_type": "code",
   "execution_count": 0,
   "metadata": {
    "application/vnd.databricks.v1+cell": {
     "cellMetadata": {
      "byteLimit": 2048000,
      "rowLimit": 10000
     },
     "inputWidgets": {},
     "nuid": "f5e68668-6843-4523-b227-19d7cf06a9da",
     "showTitle": false,
     "tableResultSettingsMap": {},
     "title": ""
    }
   },
   "outputs": [],
   "source": [
    "from pyspark.sql.functions import col\n",
    "\n",
    "# normalize to lowercase; drop duplicates if any collide after lowercasing\n",
    "seen = set()\n",
    "exprs = []\n",
    "for c in usersDF.columns:\n",
    "    lc = c.strip().lower()\n",
    "    if lc in seen:\n",
    "        continue  # drop the duplicate\n",
    "    exprs.append(col(c).alias(lc))\n",
    "    seen.add(lc)\n",
    "\n",
    "usersDF = usersDF.select(*exprs)\n",
    "\n",
    "# now write, replacing the existing schema\n",
    "usersDF.write.format(\"delta\") \\\n",
    "    .mode(\"overwrite\") \\\n",
    "    .option(\"overwriteSchema\", \"true\") \\\n",
    "    .save(silver_users)\n"
   ]
  },
  {
   "cell_type": "code",
   "execution_count": 0,
   "metadata": {
    "application/vnd.databricks.v1+cell": {
     "cellMetadata": {
      "byteLimit": 2048000,
      "rowLimit": 10000
     },
     "inputWidgets": {},
     "nuid": "96f027fa-bec8-416d-ba82-dacd0ae8f72a",
     "showTitle": false,
     "tableResultSettingsMap": {},
     "title": ""
    }
   },
   "outputs": [
    {
     "output_type": "stream",
     "name": "stdout",
     "output_type": "stream",
     "text": [
      "root\n |-- identifierhash: string (nullable = true)\n |-- type: string (nullable = true)\n |-- country: string (nullable = true)\n |-- language: string (nullable = true)\n |-- socialnbfollowers: string (nullable = true)\n |-- socialnbfollows: string (nullable = true)\n |-- socialproductsliked: string (nullable = true)\n |-- productslisted: string (nullable = true)\n |-- productssold: string (nullable = true)\n |-- productspassrate: string (nullable = true)\n |-- productswished: string (nullable = true)\n |-- productsbought: string (nullable = true)\n |-- gender: string (nullable = true)\n |-- civilitygenderid: string (nullable = true)\n |-- civilitytitle: string (nullable = true)\n |-- hasanyapp: string (nullable = true)\n |-- hasandroidapp: string (nullable = true)\n |-- hasiosapp: string (nullable = true)\n |-- hasprofilepicture: string (nullable = true)\n |-- dayssincelastlogin: string (nullable = true)\n |-- seniority: string (nullable = true)\n |-- seniorityasmonths: string (nullable = true)\n |-- seniorityasyears: string (nullable = true)\n |-- countrycode: string (nullable = true)\n |-- language_full: string (nullable = true)\n |-- civilitytitle_clean: string (nullable = true)\n |-- years_since_last_login: double (nullable = true)\n |-- account_age_years: double (nullable = true)\n |-- account_age_group: string (nullable = true)\n |-- current_year: integer (nullable = true)\n |-- user_descriptor: string (nullable = true)\n |-- flag_long_title: boolean (nullable = true)\n\n+-----------------+\n|socialnbfollowers|\n+-----------------+\n|                3|\n|                3|\n|                3|\n|                3|\n|                3|\n+-----------------+\nonly showing top 5 rows\n"
     ]
    }
   ],
   "source": [
    "df_check = spark.read.format(\"delta\").load(silver_users)\n",
    "df_check.printSchema()\n",
    "df_check.select(\"socialnbfollowers\").show(5)  # now there should be only one\n"
   ]
  },
  {
   "cell_type": "code",
   "execution_count": 0,
   "metadata": {
    "application/vnd.databricks.v1+cell": {
     "cellMetadata": {
      "byteLimit": 2048000,
      "rowLimit": 10000
     },
     "inputWidgets": {},
     "nuid": "6e2395e3-2a8c-455c-95ae-6a80afe59f2b",
     "showTitle": false,
     "tableResultSettingsMap": {},
     "title": ""
    }
   },
   "outputs": [],
   "source": [
    "usersDF.write.format(\"delta\").mode(\"overwrite\").save(silver_users)"
   ]
  },
  {
   "cell_type": "code",
   "execution_count": 0,
   "metadata": {
    "application/vnd.databricks.v1+cell": {
     "cellMetadata": {
      "byteLimit": 2048000,
      "rowLimit": 10000
     },
     "inputWidgets": {},
     "nuid": "5e2ded33-07f9-4b50-b27e-a68a99d778a0",
     "showTitle": false,
     "tableResultSettingsMap": {},
     "title": ""
    }
   },
   "outputs": [
    {
     "output_type": "stream",
     "name": "stdout",
     "output_type": "stream",
     "text": [
      "+-----------+------+---------+-------------+------------+----------+---------------+-------------+-----------------+--------------------+----------------------+------------------+-------------------------+---------------------+-------------------+-------------------+------------------+----------------------+----------------------+---------------------+------------------+------------------+-----------------+---------------------+---------------------+--------------------+---------------+------------------+-------------+-------------+----------------+----------------+\n|    country|buyers|topbuyers|topbuyerratio|femalebuyers|malebuyers|topfemalebuyers|topmalebuyers|femalebuyersratio|topfemalebuyersratio|boughtperwishlistratio|boughtperlikeratio|topboughtperwishlistratio|topboughtperlikeratio|totalproductsbought|totalproductswished|totalproductsliked|toptotalproductsbought|toptotalproductswished|toptotalproductsliked|meanproductsbought|meanproductswished|meanproductsliked|topmeanproductsbought|topmeanproductswished|topmeanproductsliked|meanofflinedays|topmeanofflinedays|meanfollowers|meanfollowing|topmeanfollowers|topmeanfollowing|\n+-----------+------+---------+-------------+------------+----------+---------------+-------------+-----------------+--------------------+----------------------+------------------+-------------------------+---------------------+-------------------+-------------------+------------------+----------------------+----------------------+---------------------+------------------+------------------+-----------------+---------------------+---------------------+--------------------+---------------+------------------+-------------+-------------+----------------+----------------+\n|     France|  1251|       53|          4.2|         851|       400|             33|           20|             68.0|                62.3|                 26.08|             14.15|                    36.37|                23.21|               3573|              13700|             25249|                  1487|                  4089|                 6406|               2.9|              11.0|             20.2|                 28.1|                 77.2|               120.9|          321.8|              75.0|          4.8|          8.8|            10.1|            11.0|\n|Royaume-Uni|   792|       38|          4.8|         560|       232|             30|            8|             70.7|                78.9|                 14.97|               9.3|                    13.93|                11.59|               2174|              14524|             23378|                   853|                  6124|                 7362|               2.7|              18.3|             29.5|                 22.4|                161.2|               193.7|          298.3|              68.2|          5.4|          8.8|            11.1|            12.2|\n| Etats-Unis|   912|       31|          3.4|         700|       212|             21|           10|             76.8|                67.7|                 21.84|              7.92|                    23.35|                12.44|               2370|              10852|             29917|                   864|                  3701|                 6946|               2.6|              11.9|             32.8|                 27.9|                119.4|               224.1|          359.3|              73.0|          4.9|          9.7|            11.7|            27.9|\n|  Allemagne|   578|       29|          5.0|         409|       169|             21|            8|             70.8|                72.4|                 13.91|              6.88|                    10.13|                 4.85|               1635|              11758|             23761|                   516|                  5096|                10648|               2.8|              20.3|             41.1|                 17.8|                175.7|               367.2|          296.6|              39.3|          5.1|          8.6|            11.2|            11.3|\n|     Italie|   400|       21|          5.3|         283|       117|             14|            7|             70.8|                66.7|                 12.56|               8.6|                    11.86|                23.91|               1221|               9720|             14200|                   519|                  4376|                 2171|               3.1|              24.3|             35.5|                 24.7|                208.4|               103.4|          247.9|              40.9|          6.4|         11.6|            14.3|            15.4|\n+-----------+------+---------+-------------+------------+----------+---------------+-------------+-----------------+--------------------+----------------------+------------------+-------------------------+---------------------+-------------------+-------------------+------------------+----------------------+----------------------+---------------------+------------------+------------------+-----------------+---------------------+---------------------+--------------------+---------------+------------------+-------------+-------------+----------------+----------------+\nonly showing top 5 rows\n"
     ]
    }
   ],
   "source": [
    "bronze_buyers = f\"{root}/bronze/buyers\"   # <- absolute path\n",
    "buyersDF = spark.read.format(\"delta\").load(bronze_buyers)\n",
    "buyersDF.show(5)"
   ]
  },
  {
   "cell_type": "code",
   "execution_count": 0,
   "metadata": {
    "application/vnd.databricks.v1+cell": {
     "cellMetadata": {
      "byteLimit": 2048000,
      "rowLimit": 10000
     },
     "inputWidgets": {},
     "nuid": "2605deef-ec00-4fc6-8f81-35837b6afdcc",
     "showTitle": false,
     "tableResultSettingsMap": {},
     "title": ""
    }
   },
   "outputs": [
    {
     "output_type": "display_data",
     "data": {
      "text/html": [
       "<style scoped>\n",
       "  .table-result-container {\n",
       "    max-height: 300px;\n",
       "    overflow: auto;\n",
       "  }\n",
       "  table, th, td {\n",
       "    border: 1px solid black;\n",
       "    border-collapse: collapse;\n",
       "  }\n",
       "  th, td {\n",
       "    padding: 5px;\n",
       "  }\n",
       "  th {\n",
       "    text-align: left;\n",
       "  }\n",
       "</style><div class='table-result-container'><table class='table-result'><thead style='background-color: white'><tr><th>path</th><th>name</th><th>size</th><th>modificationTime</th></tr></thead><tbody><tr><td>abfss://zone-2@ecommadls.dfs.core.windows.net/bronze/buyers/_delta_log/</td><td>_delta_log/</td><td>0</td><td>1756261113000</td></tr><tr><td>abfss://zone-2@ecommadls.dfs.core.windows.net/bronze/buyers/part-00000-13677a7e-d71d-444e-b015-b60083afb741.c000.snappy.parquet</td><td>part-00000-13677a7e-d71d-444e-b015-b60083afb741.c000.snappy.parquet</td><td>15182</td><td>1756261114000</td></tr></tbody></table></div>"
      ]
     },
     "metadata": {
      "application/vnd.databricks.v1+output": {
       "addedWidgets": {},
       "aggData": [],
       "aggError": "",
       "aggOverflow": false,
       "aggSchema": [],
       "aggSeriesLimitReached": false,
       "aggType": "",
       "arguments": {},
       "columnCustomDisplayInfos": {},
       "data": [
        [
         "abfss://zone-2@ecommadls.dfs.core.windows.net/bronze/buyers/_delta_log/",
         "_delta_log/",
         0,
         1756261113000
        ],
        [
         "abfss://zone-2@ecommadls.dfs.core.windows.net/bronze/buyers/part-00000-13677a7e-d71d-444e-b015-b60083afb741.c000.snappy.parquet",
         "part-00000-13677a7e-d71d-444e-b015-b60083afb741.c000.snappy.parquet",
         15182,
         1756261114000
        ]
       ],
       "datasetInfos": [],
       "dbfsResultPath": null,
       "isJsonSchema": true,
       "metadata": {},
       "overflow": false,
       "plotOptions": {
        "customPlotOptions": {},
        "displayType": "table",
        "pivotAggregation": null,
        "pivotColumns": null,
        "xColumns": null,
        "yColumns": null
       },
       "removedWidgets": [],
       "schema": [
        {
         "metadata": "{}",
         "name": "path",
         "type": "\"string\""
        },
        {
         "metadata": "{}",
         "name": "name",
         "type": "\"string\""
        },
        {
         "metadata": "{}",
         "name": "size",
         "type": "\"long\""
        },
        {
         "metadata": "{}",
         "name": "modificationTime",
         "type": "\"long\""
        }
       ],
       "type": "table"
      }
     },
     "output_type": "display_data"
    }
   ],
   "source": [
    "display(dbutils.fs.ls(bronze_buyers))"
   ]
  },
  {
   "cell_type": "code",
   "execution_count": 0,
   "metadata": {
    "application/vnd.databricks.v1+cell": {
     "cellMetadata": {
      "byteLimit": 2048000,
      "rowLimit": 10000
     },
     "inputWidgets": {},
     "nuid": "23139e56-bb15-44c2-9e7c-c1fadf530957",
     "showTitle": false,
     "tableResultSettingsMap": {},
     "title": ""
    }
   },
   "outputs": [
    {
     "output_type": "execute_result",
     "data": {
      "text/plain": [
       "['country',\n",
       " 'buyers',\n",
       " 'topbuyers',\n",
       " 'topbuyerratio',\n",
       " 'femalebuyers',\n",
       " 'malebuyers',\n",
       " 'topfemalebuyers',\n",
       " 'topmalebuyers',\n",
       " 'femalebuyersratio',\n",
       " 'topfemalebuyersratio',\n",
       " 'boughtperwishlistratio',\n",
       " 'boughtperlikeratio',\n",
       " 'topboughtperwishlistratio',\n",
       " 'topboughtperlikeratio',\n",
       " 'totalproductsbought',\n",
       " 'totalproductswished',\n",
       " 'totalproductsliked',\n",
       " 'toptotalproductsbought',\n",
       " 'toptotalproductswished',\n",
       " 'toptotalproductsliked',\n",
       " 'meanproductsbought',\n",
       " 'meanproductswished',\n",
       " 'meanproductsliked',\n",
       " 'topmeanproductsbought',\n",
       " 'topmeanproductswished',\n",
       " 'topmeanproductsliked',\n",
       " 'meanofflinedays',\n",
       " 'topmeanofflinedays',\n",
       " 'meanfollowers',\n",
       " 'meanfollowing',\n",
       " 'topmeanfollowers',\n",
       " 'topmeanfollowing']"
      ]
     },
     "execution_count": 13,
     "metadata": {},
     "output_type": "execute_result"
    }
   ],
   "source": [
    "buyersDF.columns"
   ]
  },
  {
   "cell_type": "code",
   "execution_count": 0,
   "metadata": {
    "application/vnd.databricks.v1+cell": {
     "cellMetadata": {
      "byteLimit": 2048000,
      "rowLimit": 10000
     },
     "inputWidgets": {},
     "nuid": "87dac345-4778-44e0-9049-a7bea74c617a",
     "showTitle": false,
     "tableResultSettingsMap": {},
     "title": ""
    }
   },
   "outputs": [],
   "source": [
    "decimal_columns = [\n",
    "    'topbuyerratio', 'femalebuyersratio', 'topfemalebuyersratio',\n",
    "    'boughtperwishlistratio', 'boughtperlikeratio', 'topboughtperwishlistratio',\n",
    "    'topboughtperlikeratio', 'meanproductsbought', 'meanproductswished',\n",
    "    'meanproductsliked', 'topmeanproductsbought', 'topmeanproductswished',\n",
    "    'topmeanproductsliked', 'meanofflinedays', 'topmeanofflinedays',\n",
    "    'meanfollowers', 'meanfollowing', 'topmeanfollowers', 'topmeanfollowing'\n",
    "]\n",
    "\n",
    "for column_name in decimal_columns:\n",
    "    buyersDF = buyersDF.withColumn(column_name, col(column_name).cast(DecimalType(10, 2)))"
   ]
  },
  {
   "cell_type": "code",
   "execution_count": 0,
   "metadata": {
    "application/vnd.databricks.v1+cell": {
     "cellMetadata": {
      "byteLimit": 2048000,
      "rowLimit": 10000
     },
     "inputWidgets": {},
     "nuid": "19099d4f-4843-4bbb-b778-95fe1133bd3e",
     "showTitle": false,
     "tableResultSettingsMap": {},
     "title": ""
    }
   },
   "outputs": [],
   "source": [
    "integer_columns = [\n",
    "    'buyers', 'topbuyers', 'femalebuyers', 'malebuyers',\n",
    "    'topfemalebuyers', 'topmalebuyers', 'totalproductsbought',\n",
    "    'totalproductswished', 'totalproductsliked', 'toptotalproductsbought',\n",
    "    'toptotalproductswished', 'toptotalproductsliked'\n",
    "]\n",
    "\n",
    "for column_name in integer_columns:\n",
    "    buyersDF = buyersDF.withColumn(column_name, col(column_name).cast(IntegerType()))"
   ]
  },
  {
   "cell_type": "code",
   "execution_count": 0,
   "metadata": {
    "application/vnd.databricks.v1+cell": {
     "cellMetadata": {
      "byteLimit": 2048000,
      "rowLimit": 10000
     },
     "inputWidgets": {},
     "nuid": "c2501ac1-a8ed-490b-b8a8-bf2a23cae673",
     "showTitle": false,
     "tableResultSettingsMap": {},
     "title": ""
    }
   },
   "outputs": [],
   "source": [
    "# Normalize country names\n",
    "buyersDF = buyersDF.withColumn(\"country\", initcap(col(\"country\")))\n",
    "\n",
    "# Fill NULL integers with 0\n",
    "for column_name in integer_columns:\n",
    "    buyersDF = buyersDF.fillna({column_name: 0})\n",
    "\n",
    "# Female-to-male ratio\n",
    "buyersDF = buyersDF.withColumn(\n",
    "    \"female_to_male_ratio\",\n",
    "    round(col(\"femalebuyers\") / (col(\"malebuyers\") + 1), 2)\n",
    ")\n",
    "\n",
    "# Wishlist-to-purchase ratio\n",
    "buyersDF = buyersDF.withColumn(\n",
    "    \"wishlist_to_purchase_ratio\",\n",
    "    round(col(\"totalproductswished\") / (col(\"totalproductsbought\") + 1), 2)\n",
    ")\n",
    "\n",
    "# High engagement flag\n",
    "high_engagement_threshold = 0.5\n",
    "buyersDF = buyersDF.withColumn(\n",
    "    \"high_engagement\",\n",
    "    when(col(\"boughtperwishlistratio\") > high_engagement_threshold, True).otherwise(False)\n",
    ")\n",
    "\n",
    "# Growing female market flag\n",
    "buyersDF = buyersDF.withColumn(\n",
    "    \"growing_female_market\",\n",
    "    when(col(\"femalebuyersratio\") > col(\"topfemalebuyersratio\"), True).otherwise(False)\n",
    ")"
   ]
  },
  {
   "cell_type": "code",
   "execution_count": 0,
   "metadata": {
    "application/vnd.databricks.v1+cell": {
     "cellMetadata": {
      "byteLimit": 2048000,
      "rowLimit": 10000
     },
     "inputWidgets": {},
     "nuid": "6b4c930a-fd22-47ea-bcae-58a1436cd8de",
     "showTitle": false,
     "tableResultSettingsMap": {},
     "title": ""
    }
   },
   "outputs": [],
   "source": [
    "silver_buyers = f\"{root}/silver/buyers\"\n",
    "buyersDF.write.format(\"delta\").mode(\"overwrite\").save(silver_buyers)"
   ]
  },
  {
   "cell_type": "code",
   "execution_count": 0,
   "metadata": {
    "application/vnd.databricks.v1+cell": {
     "cellMetadata": {
      "byteLimit": 2048000,
      "rowLimit": 10000
     },
     "inputWidgets": {},
     "nuid": "339f2248-1929-44b5-82af-54409c2856b2",
     "showTitle": false,
     "tableResultSettingsMap": {},
     "title": ""
    }
   },
   "outputs": [],
   "source": [
    "bronze_sellers = f\"{root}/bronze/sellers\"     # source\n",
    "silver_sellers = f\"{root}/silver/sellers\"     # target\n",
    "sellersDF = spark.read.format(\"delta\").load(bronze_sellers)"
   ]
  },
  {
   "cell_type": "code",
   "execution_count": 0,
   "metadata": {
    "application/vnd.databricks.v1+cell": {
     "cellMetadata": {
      "byteLimit": 2048000,
      "rowLimit": 10000
     },
     "inputWidgets": {},
     "nuid": "9c2930ab-fa10-4aac-8388-649cacf5e2d1",
     "showTitle": false,
     "tableResultSettingsMap": {},
     "title": ""
    }
   },
   "outputs": [
    {
     "output_type": "execute_result",
     "data": {
      "text/plain": [
       "['country',\n",
       " 'sex',\n",
       " 'nbsellers',\n",
       " 'meanproductssold',\n",
       " 'meanproductslisted',\n",
       " 'meansellerpassrate',\n",
       " 'totalproductssold',\n",
       " 'totalproductslisted',\n",
       " 'meanproductsbought',\n",
       " 'meanproductswished',\n",
       " 'meanproductsliked',\n",
       " 'totalbought',\n",
       " 'totalwished',\n",
       " 'totalproductsliked',\n",
       " 'meanfollowers',\n",
       " 'meanfollows',\n",
       " 'percentofappusers',\n",
       " 'percentofiosusers',\n",
       " 'meanseniority']"
      ]
     },
     "execution_count": 19,
     "metadata": {},
     "output_type": "execute_result"
    }
   ],
   "source": [
    "sellersDF.columns"
   ]
  },
  {
   "cell_type": "code",
   "execution_count": 0,
   "metadata": {
    "application/vnd.databricks.v1+cell": {
     "cellMetadata": {
      "byteLimit": 2048000,
      "rowLimit": 10000
     },
     "inputWidgets": {},
     "nuid": "85fa67b8-5380-4be4-98cc-d7e2501f3933",
     "showTitle": false,
     "tableResultSettingsMap": {},
     "title": ""
    }
   },
   "outputs": [],
   "source": [
    "sellersDF = sellersDF \\\n",
    "    .withColumn(\"nbsellers\",            col(\"nbsellers\").cast(IntegerType())) \\\n",
    "    .withColumn(\"meanproductssold\",     col(\"meanproductssold\").cast(DecimalType(10,2))) \\\n",
    "    .withColumn(\"meanproductslisted\",   col(\"meanproductslisted\").cast(DecimalType(10,2))) \\\n",
    "    .withColumn(\"meansellerpassrate\",   col(\"meansellerpassrate\").cast(DecimalType(10,2))) \\\n",
    "    .withColumn(\"totalproductssold\",    col(\"totalproductssold\").cast(IntegerType())) \\\n",
    "    .withColumn(\"totalproductslisted\",  col(\"totalproductslisted\").cast(IntegerType())) \\\n",
    "    .withColumn(\"meanproductsbought\",   col(\"meanproductsbought\").cast(DecimalType(10,2))) \\\n",
    "    .withColumn(\"meanproductswished\",   col(\"meanproductswished\").cast(DecimalType(10,2))) \\\n",
    "    .withColumn(\"meanproductsliked\",    col(\"meanproductsliked\").cast(DecimalType(10,2))) \\\n",
    "    .withColumn(\"totalbought\",          col(\"totalbought\").cast(IntegerType())) \\\n",
    "    .withColumn(\"totalwished\",          col(\"totalwished\").cast(IntegerType())) \\\n",
    "    .withColumn(\"totalproductsliked\",   col(\"totalproductsliked\").cast(IntegerType())) \\\n",
    "    .withColumn(\"meanfollowers\",        col(\"meanfollowers\").cast(DecimalType(10,2))) \\\n",
    "    .withColumn(\"percentofappusers\",    col(\"percentofappusers\").cast(DecimalType(10,2))) \\\n",
    "    .withColumn(\"percentofiosusers\",    col(\"percentofiosusers\").cast(DecimalType(10,2))) \\\n",
    "    .withColumn(\"meanseniority\",        col(\"meanseniority\").cast(DecimalType(10,2)))"
   ]
  },
  {
   "cell_type": "code",
   "execution_count": 0,
   "metadata": {
    "application/vnd.databricks.v1+cell": {
     "cellMetadata": {
      "byteLimit": 2048000,
      "rowLimit": 10000
     },
     "inputWidgets": {},
     "nuid": "342b6981-54da-4793-bfe8-ab320aad4927",
     "showTitle": false,
     "tableResultSettingsMap": {},
     "title": ""
    }
   },
   "outputs": [],
   "source": [
    "# ---------- normalization ----------\n",
    "sellersDF = sellersDF.withColumn(\"country\", initcap(col(\"country\"))) \\\n",
    "                     .withColumn(\"sex\", upper(col(\"sex\")))\n",
    "\n",
    "# ---------- add seller size category ----------\n",
    "sellersDF = sellersDF.withColumn(\n",
    "    \"seller_size_category\",\n",
    "    when(col(\"nbsellers\") < 500, \"Small\")\n",
    "    .when((col(\"nbsellers\") >= 500) & (col(\"nbsellers\") < 2000), \"Medium\")\n",
    "    .otherwise(\"Large\")\n",
    ")\n",
    "\n",
    "# ---------- mean products listed per seller ----------\n",
    "sellersDF = sellersDF.withColumn(\n",
    "    \"mean_products_listed_per_seller\",\n",
    "    round(col(\"totalproductslisted\") / col(\"nbsellers\"), 2)\n",
    ")\n",
    "\n",
    "# ---------- high seller pass rate ----------\n",
    "sellersDF = sellersDF.withColumn(\n",
    "    \"high_seller_pass_rate\",\n",
    "    when(col(\"meansellerpassrate\") > 0.75, \"High\").otherwise(\"Normal\")\n",
    ")\n",
    "\n",
    "# ---------- handle null pass rate with avg ----------\n",
    "mean_pass_rate = sellersDF.select(\n",
    "    round(avg(\"meansellerpassrate\"), 2).alias(\"avg_pass_rate\")\n",
    ").collect()[0][\"avg_pass_rate\"]\n",
    "\n",
    "sellersDF = sellersDF.withColumn(\n",
    "    \"meansellerpassrate\",\n",
    "    when(col(\"meansellerpassrate\").isNull(), mean_pass_rate)\n",
    "    .otherwise(col(\"meansellerpassrate\"))\n",
    ")\n"
   ]
  },
  {
   "cell_type": "code",
   "execution_count": 0,
   "metadata": {
    "application/vnd.databricks.v1+cell": {
     "cellMetadata": {
      "byteLimit": 2048000,
      "rowLimit": 10000
     },
     "inputWidgets": {},
     "nuid": "14528c72-f20d-4b1a-bfb9-cd0d24fcfb65",
     "showTitle": false,
     "tableResultSettingsMap": {},
     "title": ""
    }
   },
   "outputs": [],
   "source": [
    "sellersDF.write.format(\"delta\").mode(\"overwrite\").save(silver_sellers)"
   ]
  },
  {
   "cell_type": "code",
   "execution_count": 0,
   "metadata": {
    "application/vnd.databricks.v1+cell": {
     "cellMetadata": {
      "byteLimit": 2048000,
      "rowLimit": 10000
     },
     "inputWidgets": {},
     "nuid": "2677354b-0bab-47ee-927c-4ecf45fc06bb",
     "showTitle": false,
     "tableResultSettingsMap": {},
     "title": ""
    }
   },
   "outputs": [],
   "source": [
    "bronze_countries = f\"{root}/bronze/countries\"\n",
    "silver_countries = f\"{root}/silver/countries\""
   ]
  },
  {
   "cell_type": "code",
   "execution_count": 0,
   "metadata": {
    "application/vnd.databricks.v1+cell": {
     "cellMetadata": {
      "byteLimit": 2048000,
      "rowLimit": 10000
     },
     "inputWidgets": {},
     "nuid": "019599d5-ed1e-4baa-a6c4-6bcffb37f14e",
     "showTitle": false,
     "tableResultSettingsMap": {},
     "title": ""
    }
   },
   "outputs": [],
   "source": [
    "# ---------- read Bronze COUNTRIES ----------\n",
    "countriesDF = spark.read.format(\"delta\").load(bronze_countries)"
   ]
  },
  {
   "cell_type": "code",
   "execution_count": 0,
   "metadata": {
    "application/vnd.databricks.v1+cell": {
     "cellMetadata": {
      "byteLimit": 2048000,
      "rowLimit": 10000
     },
     "inputWidgets": {},
     "nuid": "9313e45c-a148-4a30-b2bd-573600607693",
     "showTitle": false,
     "tableResultSettingsMap": {},
     "title": ""
    }
   },
   "outputs": [
    {
     "output_type": "stream",
     "name": "stdout",
     "output_type": "stream",
     "text": [
      "19\n"
     ]
    }
   ],
   "source": [
    "print(countriesDF.count())"
   ]
  },
  {
   "cell_type": "code",
   "execution_count": 0,
   "metadata": {
    "application/vnd.databricks.v1+cell": {
     "cellMetadata": {
      "byteLimit": 2048000,
      "rowLimit": 10000
     },
     "inputWidgets": {},
     "nuid": "e2557e0f-bfa9-461e-893a-e5929cb26a73",
     "showTitle": false,
     "tableResultSettingsMap": {},
     "title": ""
    }
   },
   "outputs": [],
   "source": [
    "countriesDF = countriesDF \\\n",
    "    .withColumn(\"sellers\", col(\"sellers\").cast(IntegerType())) \\\n",
    "    .withColumn(\"topsellers\", col(\"topsellers\").cast(IntegerType())) \\\n",
    "    .withColumn(\"topsellerratio\", col(\"topsellerratio\").cast(DecimalType(10, 2))) \\\n",
    "    .withColumn(\"femalesellersratio\", col(\"femalesellersratio\").cast(DecimalType(10, 2))) \\\n",
    "    .withColumn(\"topfemalesellersratio\", col(\"topfemalesellersratio\").cast(DecimalType(10, 2))) \\\n",
    "    .withColumn(\"femalesellers\", col(\"femalesellers\").cast(IntegerType())) \\\n",
    "    .withColumn(\"malesellers\", col(\"malesellers\").cast(IntegerType())) \\\n",
    "    .withColumn(\"topfemalesellers\", col(\"topfemalesellers\").cast(IntegerType())) \\\n",
    "    .withColumn(\"topmalesellers\", col(\"topmalesellers\").cast(IntegerType())) \\\n",
    "    .withColumn(\"countrysoldratio\", col(\"countrysoldratio\").cast(DecimalType(10, 2))) \\\n",
    "    .withColumn(\"bestsoldratio\", col(\"bestsoldratio\").cast(DecimalType(10, 2))) \\\n",
    "    .withColumn(\"toptotalproductssold\", col(\"toptotalproductssold\").cast(IntegerType())) \\\n",
    "    .withColumn(\"toptotalproductslisted\", col(\"toptotalproductslisted\").cast(IntegerType())) \\\n",
    "    .withColumn(\"totalproductssold\", col(\"totalproductssold\").cast(IntegerType())) \\\n",
    "    .withColumn(\"totalproductslisted\", col(\"totalproductslisted\").cast(IntegerType())) \\\n",
    "    .withColumn(\"topmeanproductssold\", col(\"topmeanproductssold\").cast(DecimalType(10, 2))) \\\n",
    "    .withColumn(\"topmeanproductslisted\", col(\"topmeanproductslisted\").cast(DecimalType(10, 2))) \\\n",
    "    .withColumn(\"meanproductssold\", col(\"meanproductssold\").cast(DecimalType(10, 2))) \\\n",
    "    .withColumn(\"meanproductslisted\", col(\"meanproductslisted\").cast(DecimalType(10, 2))) \\\n",
    "    .withColumn(\"meanofflinedays\", col(\"meanofflinedays\").cast(DecimalType(10, 2))) \\\n",
    "    .withColumn(\"topmeanofflinedays\", col(\"topmeanofflinedays\").cast(DecimalType(10, 2))) \\\n",
    "    .withColumn(\"meanfollowers\", col(\"meanfollowers\").cast(DecimalType(10, 2))) \\\n",
    "    .withColumn(\"meanfollowing\", col(\"meanfollowing\").cast(DecimalType(10, 2))) \\\n",
    "    .withColumn(\"topmeanfollowers\", col(\"topmeanfollowers\").cast(DecimalType(10, 2))) \\\n",
    "    .withColumn(\"topmeanfollowing\", col(\"topmeanfollowing\").cast(DecimalType(10, 2)))"
   ]
  },
  {
   "cell_type": "code",
   "execution_count": 0,
   "metadata": {
    "application/vnd.databricks.v1+cell": {
     "cellMetadata": {
      "byteLimit": 2048000,
      "rowLimit": 10000
     },
     "inputWidgets": {},
     "nuid": "e49d0f79-7b72-478d-8265-271dd344b602",
     "showTitle": false,
     "tableResultSettingsMap": {},
     "title": ""
    }
   },
   "outputs": [],
   "source": [
    "# ---------- normalize country ----------\n",
    "countriesDF = countriesDF.withColumn(\"country\", initcap(col(\"country\")))\n",
    "\n",
    "# ---------- derived features ----------\n",
    "countriesDF = countriesDF.withColumn(\n",
    "    \"top_seller_ratio\",\n",
    "    round(col(\"topsellers\") / (col(\"sellers\") + 1), 2)\n",
    ")\n",
    "\n",
    "countriesDF = countriesDF.withColumn(\n",
    "    \"high_female_seller_ratio\",\n",
    "    when(col(\"femalesellersratio\") > 0.5, True).otherwise(False)\n",
    ")\n",
    "\n",
    "countriesDF = countriesDF.withColumn(\n",
    "    \"performance_indicator\",\n",
    "    round(col(\"toptotalproductssold\") / (col(\"toptotalproductslisted\") + 1), 2)\n",
    ")\n",
    "\n",
    "countriesDF = countriesDF.withColumn(\n",
    "    \"high_performance\",\n",
    "    when(col(\"performance_indicator\") > 0.8, True).otherwise(False)\n",
    ")\n",
    "\n",
    "countriesDF = countriesDF.withColumn(\n",
    "    \"activity_level\",\n",
    "    when(col(\"meanofflinedays\") < 30, \"Highly Active\")\n",
    "    .when((col(\"meanofflinedays\") >= 30) & (col(\"meanofflinedays\") < 60), \"Moderately Active\")\n",
    "    .otherwise(\"Low Activity\")\n",
    ")"
   ]
  },
  {
   "cell_type": "code",
   "execution_count": 0,
   "metadata": {
    "application/vnd.databricks.v1+cell": {
     "cellMetadata": {
      "byteLimit": 2048000,
      "rowLimit": 10000
     },
     "inputWidgets": {},
     "nuid": "065f2885-cc9b-4ae7-b4cc-491b2044e637",
     "showTitle": false,
     "tableResultSettingsMap": {},
     "title": ""
    }
   },
   "outputs": [
    {
     "output_type": "stream",
     "name": "stdout",
     "output_type": "stream",
     "text": [
      "+---------+-------+----------+--------------+------------------+---------------------+-------------+-----------+----------------+--------------+----------------+-------------+--------------------+-----------------+----------------------+-------------------+-------------------+---------------------+----------------+------------------+---------------+------------------+-------------+-------------+----------------+----------------+----------------+------------------------+---------------------+----------------+--------------+\n|  country|sellers|topsellers|topsellerratio|femalesellersratio|topfemalesellersratio|femalesellers|malesellers|topfemalesellers|topmalesellers|countrysoldratio|bestsoldratio|toptotalproductssold|totalproductssold|toptotalproductslisted|totalproductslisted|topmeanproductssold|topmeanproductslisted|meanproductssold|meanproductslisted|meanofflinedays|topmeanofflinedays|meanfollowers|meanfollowing|topmeanfollowers|topmeanfollowing|top_seller_ratio|high_female_seller_ratio|performance_indicator|high_performance|activity_level|\n+---------+-------+----------+--------------+------------------+---------------------+-------------+-----------+----------------+--------------+----------------+-------------+--------------------+-----------------+----------------------+-------------------+-------------------+---------------------+----------------+------------------+---------------+------------------+-------------+-------------+----------------+----------------+----------------+------------------------+---------------------+----------------+--------------+\n|   Taiwan|      1|         1|        100.00|            100.00|               100.00|            1|          0|               1|             0|            1.02|         1.02|                  57|               57|                    56|                 56|              57.00|                56.00|           57.00|             56.00|          11.00|             11.00|        83.00|         8.00|           83.00|            8.00|             0.5|                    true|                  1.0|            true| Highly Active|\n|Slovaquie|      2|         1|         50.00|              0.00|                 0.00|            0|          2|               0|             1|            2.00|         1.93|                  27|               28|                    14|                 14|              27.00|                14.00|           14.00|              7.00|          17.00|             15.00|        10.50|         8.50|           15.00|            8.00|            0.33|                   false|                  1.8|            true| Highly Active|\n| Lettonie|      4|         2|         50.00|            100.00|               100.00|            4|          0|               2|             0|            2.31|         2.25|                  81|               83|                    36|                 36|              40.50|                18.00|           20.75|              9.00|         120.30|             11.50|        21.00|        52.30|           38.00|           98.50|             0.4|                    true|                 2.19|            true|  Low Activity|\n| Bulgarie|      9|         4|         44.40|             66.70|               100.00|            6|          3|               4|             0|            2.07|         2.10|                 145|              170|                    69|                 82|              36.25|                17.25|           18.89|              9.11|          98.30|             19.00|        28.60|        31.60|           46.30|           19.00|             0.4|                    true|                 2.07|            true|  Low Activity|\n|   Chypre|      4|         1|         25.00|            100.00|               100.00|            4|          0|               1|             0|            0.69|         0.62|                  41|               56|                    66|                 81|              41.00|                66.00|           14.00|             20.25|          17.30|             11.00|        21.30|        10.30|           39.00|           17.00|             0.2|                    true|                 0.61|           false| Highly Active|\n+---------+-------+----------+--------------+------------------+---------------------+-------------+-----------+----------------+--------------+----------------+-------------+--------------------+-----------------+----------------------+-------------------+-------------------+---------------------+----------------+------------------+---------------+------------------+-------------+-------------+----------------+----------------+----------------+------------------------+---------------------+----------------+--------------+\nonly showing top 5 rows\n"
     ]
    }
   ],
   "source": [
    "countriesDF.show(5)"
   ]
  },
  {
   "cell_type": "code",
   "execution_count": 0,
   "metadata": {
    "application/vnd.databricks.v1+cell": {
     "cellMetadata": {
      "byteLimit": 2048000,
      "rowLimit": 10000
     },
     "inputWidgets": {},
     "nuid": "00cbf57a-41a5-46a9-9f4f-10bf0d1c07dc",
     "showTitle": false,
     "tableResultSettingsMap": {},
     "title": ""
    }
   },
   "outputs": [],
   "source": [
    "countriesDF.write.format(\"delta\").mode(\"overwrite\").save(silver_countries)"
   ]
  }
 ],
 "metadata": {
  "application/vnd.databricks.v1+notebook": {
   "computePreferences": null,
   "dashboards": [],
   "environmentMetadata": {
    "base_environment": "",
    "environment_version": "2"
   },
   "inputWidgetPreferences": null,
   "language": "python",
   "notebookMetadata": {
    "pythonIndentUnit": 4
   },
   "notebookName": "Silver_Transform",
   "widgets": {}
  },
  "language_info": {
   "name": "python"
  }
 },
 "nbformat": 4,
 "nbformat_minor": 0
}