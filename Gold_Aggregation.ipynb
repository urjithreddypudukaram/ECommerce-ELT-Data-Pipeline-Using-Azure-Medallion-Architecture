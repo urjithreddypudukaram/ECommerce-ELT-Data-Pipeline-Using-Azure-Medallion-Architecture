{
 "cells": [
  {
   "cell_type": "code",
   "execution_count": 0,
   "metadata": {
    "application/vnd.databricks.v1+cell": {
     "cellMetadata": {
      "byteLimit": 2048000,
      "rowLimit": 10000
     },
     "inputWidgets": {},
     "nuid": "a112fdee-a1d4-4c45-a427-a13243fe1574",
     "showTitle": false,
     "tableResultSettingsMap": {},
     "title": ""
    }
   },
   "outputs": [],
   "source": [
    "service_credential = dbutils.secrets.get(scope=\"ecomm-kv-scope\",key=\"ecomm-secret\")\n",
    "\n",
    "spark.conf.set(\"fs.azure.account.auth.type.ecommadls.dfs.core.windows.net\", \"OAuth\")\n",
    "spark.conf.set(\"fs.azure.account.oauth.provider.type.ecommadls.dfs.core.windows.net\", \"org.apache.hadoop.fs.azurebfs.oauth2.ClientCredsTokenProvider\")\n",
    "spark.conf.set(\"fs.azure.account.oauth2.client.id.ecommadls.dfs.core.windows.net\", \"3b059ba0-2363-42d4-345890-37UC3dd866ea7\")\n",
    "spark.conf.set(\"fs.azure.account.oauth2.client.secret.ecommadls.dfs.core.windows.net\", service_credential)\n",
    "spark.conf.set(\"fs.azure.account.oauth2.client.endpoint.ecommadls.dfs.core.windows.net\", \"https://login.microsoftonline.com/2535435251-7BG9-4c72-905f-39bf434340a8a84/oauth2/token\")"
   ]
  },
  {
   "cell_type": "code",
   "execution_count": 0,
   "metadata": {
    "application/vnd.databricks.v1+cell": {
     "cellMetadata": {
      "byteLimit": 2048000,
      "rowLimit": 10000
     },
     "inputWidgets": {},
     "nuid": "1ceecbef-372a-4ca5-a905-0620149a9af4",
     "showTitle": false,
     "tableResultSettingsMap": {},
     "title": ""
    }
   },
   "outputs": [],
   "source": [
    "root = \"abfss://zone-2@ecommadls.dfs.core.windows.net\"\n",
    "silver_users     = f\"{root}/silver/users\"\n",
    "silver_buyers    = f\"{root}/silver/buyers\"\n",
    "silver_sellers   = f\"{root}/silver/sellers\"\n",
    "silver_countries = f\"{root}/silver/countries\"\n",
    "gold_output      = f\"{root}/gold/ecom_one_big_table\""
   ]
  },
  {
   "cell_type": "code",
   "execution_count": 0,
   "metadata": {
    "application/vnd.databricks.v1+cell": {
     "cellMetadata": {
      "byteLimit": 2048000,
      "rowLimit": 10000
     },
     "inputWidgets": {},
     "nuid": "c7a18742-bb95-47c6-bd93-e6a39f59f2c7",
     "showTitle": false,
     "tableResultSettingsMap": {},
     "title": ""
    }
   },
   "outputs": [],
   "source": [
    "u = spark.read.format(\"delta\").load(silver_users)\n",
    "b = spark.read.format(\"delta\").load(silver_buyers)\n",
    "s = spark.read.format(\"delta\").load(silver_sellers)\n",
    "c = spark.read.format(\"delta\").load(silver_countries)"
   ]
  },
  {
   "cell_type": "code",
   "execution_count": 0,
   "metadata": {
    "application/vnd.databricks.v1+cell": {
     "cellMetadata": {
      "byteLimit": 2048000,
      "rowLimit": 10000
     },
     "inputWidgets": {},
     "nuid": "1950d12f-9402-4486-bd10-87093a43e8bf",
     "showTitle": false,
     "tableResultSettingsMap": {},
     "title": ""
    }
   },
   "outputs": [],
   "source": [
    "big = (u.join(c, [\"country\"], \"outer\")\n",
    "        .join(b, [\"country\"], \"outer\")\n",
    "        .join(s, [\"country\"], \"outer\"))"
   ]
  },
  {
   "cell_type": "code",
   "execution_count": 0,
   "metadata": {
    "application/vnd.databricks.v1+cell": {
     "cellMetadata": {
      "byteLimit": 2048000,
      "rowLimit": 10000
     },
     "inputWidgets": {},
     "nuid": "6b552f74-6f7c-48e9-9ab7-79e5db9d3250",
     "showTitle": false,
     "tableResultSettingsMap": {},
     "title": ""
    }
   },
   "outputs": [],
   "source": [
    "# ---------- Select & Alias ----------\n",
    "goldDF = big.select(\n",
    "    # from users\n",
    "    u[\"country\"].alias(\"Country\"),\n",
    "    u[\"productsSold\"].alias(\"Users_productsSold\"),\n",
    "    u[\"productswished\"].alias(\"Users_productsWishhed\"),\n",
    "    u[\"account_age_years\"].alias(\"Users_account_age_years\"),\n",
    "    u[\"account_age_group\"].alias(\"Users_account_age_group\"),\n",
    "    u[\"hasanyapp\"].alias(\"Users_hasanyapp\"),\n",
    "    u[\"socialnbfollowers\"].alias(\"Users_socialnbfollowers\"),\n",
    "    u[\"flag_long_title\"].alias(\"Users_flag_long_title\"),\n",
    "\n",
    "    # from countries\n",
    "    c[\"sellers\"].alias(\"Countries_Sellers\"),\n",
    "    c[\"topsellers\"].alias(\"Countries_TopSellers\"),\n",
    "    c[\"femalesellers\"].alias(\"Countries_FemaleSellers\"),\n",
    "    c[\"malesellers\"].alias(\"Countries_MaleSellers\"),\n",
    "    c[\"topfemalesellers\"].alias(\"Countries_TopFemaleSellers\"),\n",
    "    c[\"topmalesellers\"].alias(\"Countries_TopMaleSellers\"),\n",
    "\n",
    "    # from buyers\n",
    "    b[\"buyers\"].alias(\"Buyers_Total\"),\n",
    "    b[\"topbuyers\"].alias(\"Buyers_Top\"),\n",
    "    b[\"femalebuyers\"].alias(\"Buyers_Female\"),\n",
    "    b[\"malebuyers\"].alias(\"Buyers_Male\"),\n",
    "    b[\"topfemalebuyers\"].alias(\"Buyers_TopFemale\"),\n",
    "    b[\"topmalebuyers\"].alias(\"Buyers_TopMale\"),\n",
    "\n",
    "    # from sellers\n",
    "    s[\"nbsellers\"].alias(\"Sellers_Total\"),\n",
    "    s[\"sex\"].alias(\"Sellers_Sex\"),\n",
    "    s[\"meanproductssold\"].alias(\"Sellers_MeanProductsSold\"),\n",
    "    s[\"meanproductslisted\"].alias(\"Sellers_MeanProductsListed\")\n",
    ")"
   ]
  },
  {
   "cell_type": "code",
   "execution_count": 0,
   "metadata": {
    "application/vnd.databricks.v1+cell": {
     "cellMetadata": {
      "byteLimit": 2048000,
      "rowLimit": 10000
     },
     "inputWidgets": {},
     "nuid": "5b3ee579-0a56-43e9-8323-8d4a8a87fcc9",
     "showTitle": false,
     "tableResultSettingsMap": {},
     "title": ""
    }
   },
   "outputs": [
    {
     "output_type": "stream",
     "name": "stdout",
     "output_type": "stream",
     "text": [
      "+-------+------------------+---------------------+-----------------------+-----------------------+---------------+-----------------------+---------------------+-----------------+--------------------+-----------------------+---------------------+--------------------------+------------------------+------------+----------+-------------+-----------+----------------+--------------+-------------+-----------+------------------------+--------------------------+\n|Country|Users_productsSold|Users_productsWishhed|Users_account_age_years|Users_account_age_group|Users_hasanyapp|Users_socialnbfollowers|Users_flag_long_title|Countries_Sellers|Countries_TopSellers|Countries_FemaleSellers|Countries_MaleSellers|Countries_TopFemaleSellers|Countries_TopMaleSellers|Buyers_Total|Buyers_Top|Buyers_Female|Buyers_Male|Buyers_TopFemale|Buyers_TopMale|Sellers_Total|Sellers_Sex|Sellers_MeanProductsSold|Sellers_MeanProductsListed|\n+-------+------------------+---------------------+-----------------------+-----------------------+---------------+-----------------------+---------------------+-----------------+--------------------+-----------------------+---------------------+--------------------------+------------------------+------------+----------+-------------+-----------+----------------+--------------+-------------+-----------+------------------------+--------------------------+\n|   Inde|                 0|                    0|                   8.78|            Experienced|          False|                      3|                false|             NULL|                NULL|                   NULL|                 NULL|                      NULL|                    NULL|        NULL|      NULL|         NULL|       NULL|            NULL|          NULL|         NULL|       NULL|                    NULL|                      NULL|\n|   Inde|                 0|                    0|                   8.78|            Experienced|          False|                      3|                false|             NULL|                NULL|                   NULL|                 NULL|                      NULL|                    NULL|        NULL|      NULL|         NULL|       NULL|            NULL|          NULL|         NULL|       NULL|                    NULL|                      NULL|\n|   Inde|                 0|                    0|                   8.78|            Experienced|           True|                      3|                false|             NULL|                NULL|                   NULL|                 NULL|                      NULL|                    NULL|        NULL|      NULL|         NULL|       NULL|            NULL|          NULL|         NULL|       NULL|                    NULL|                      NULL|\n|   Inde|                 0|                    0|                   8.78|            Experienced|          False|                      3|                false|             NULL|                NULL|                   NULL|                 NULL|                      NULL|                    NULL|        NULL|      NULL|         NULL|       NULL|            NULL|          NULL|         NULL|       NULL|                    NULL|                      NULL|\n|   Inde|                 0|                    0|                   8.78|            Experienced|          False|                      3|                false|             NULL|                NULL|                   NULL|                 NULL|                      NULL|                    NULL|        NULL|      NULL|         NULL|       NULL|            NULL|          NULL|         NULL|       NULL|                    NULL|                      NULL|\n+-------+------------------+---------------------+-----------------------+-----------------------+---------------+-----------------------+---------------------+-----------------+--------------------+-----------------------+---------------------+--------------------------+------------------------+------------+----------+-------------+-----------+----------------+--------------+-------------+-----------+------------------------+--------------------------+\nonly showing top 5 rows\n"
     ]
    }
   ],
   "source": [
    "goldDF.show(5)"
   ]
  },
  {
   "cell_type": "code",
   "execution_count": 0,
   "metadata": {
    "application/vnd.databricks.v1+cell": {
     "cellMetadata": {
      "byteLimit": 2048000,
      "rowLimit": 10000
     },
     "inputWidgets": {},
     "nuid": "685e1914-9b14-409f-9828-10938c39fd01",
     "showTitle": false,
     "tableResultSettingsMap": {},
     "title": ""
    }
   },
   "outputs": [],
   "source": [
    "goldDF.write.format(\"delta\").mode(\"overwrite\").save(gold_output)"
   ]
  }
 ],
 "metadata": {
  "application/vnd.databricks.v1+notebook": {
   "computePreferences": null,
   "dashboards": [],
   "environmentMetadata": {
    "base_environment": "",
    "environment_version": "2"
   },
   "inputWidgetPreferences": null,
   "language": "python",
   "notebookMetadata": {
    "pythonIndentUnit": 4
   },
   "notebookName": "Gold_Aggregation",
   "widgets": {}
  },
  "language_info": {
   "name": "python"
  }
 },
 "nbformat": 4,
 "nbformat_minor": 0
}